{
  "nbformat": 4,
  "nbformat_minor": 0,
  "metadata": {
    "colab": {
      "name": "u-net-practice.ipynb",
      "provenance": [],
      "collapsed_sections": [],
      "authorship_tag": "ABX9TyNEDHcbIZ8aWWwyEDgP0oip",
      "include_colab_link": true
    },
    "kernelspec": {
      "name": "python3",
      "display_name": "Python 3"
    },
    "accelerator": "GPU"
  },
  "cells": [
    {
      "cell_type": "markdown",
      "metadata": {
        "id": "view-in-github",
        "colab_type": "text"
      },
      "source": [
        "<a href=\"https://colab.research.google.com/github/sahinof/u-net-practice/blob/main/u_net_practice.ipynb\" target=\"_parent\"><img src=\"https://colab.research.google.com/assets/colab-badge.svg\" alt=\"Open In Colab\"/></a>"
      ]
    },
    {
      "cell_type": "code",
      "metadata": {
        "id": "7SP3_F_ZUgcx"
      },
      "source": [
        "from google.colab import files\r\n",
        "\r\n",
        "uploaded = files.upload()"
      ],
      "execution_count": null,
      "outputs": []
    },
    {
      "cell_type": "code",
      "metadata": {
        "id": "DbfcnGpnVxsS"
      },
      "source": [
        "!unzip stage1_test.zip -d \"/test/\"\r\n",
        "!unzip stage1_train.zip -d \"/train/\""
      ],
      "execution_count": null,
      "outputs": []
    },
    {
      "cell_type": "code",
      "metadata": {
        "id": "d-IwlERiUVjD"
      },
      "source": [
        "import tensorflow as tf\r\n",
        "import os\r\n",
        "import sys\r\n",
        "import random\r\n",
        "import numpy as np\r\n",
        "\r\n",
        "from tqdm import tqdm                     # to show the progress bar\r\n",
        "from skimage.io import imread, imshow\r\n",
        "from skimage.transform import resize\r\n",
        "import matplotlib.pyplot as plt\r\n",
        "\r\n",
        "seed = 42\r\n",
        "np.random.seed = seed"
      ],
      "execution_count": 4,
      "outputs": []
    },
    {
      "cell_type": "code",
      "metadata": {
        "id": "-_3xwv1NODoG"
      },
      "source": [
        "# Path information\r\n",
        "TRAIN_PATH = '/train/'\r\n",
        "TEST_PATH = '/test/'\r\n",
        "\r\n",
        "# Working with folders and files\r\n",
        "train_ids = next(os.walk(TRAIN_PATH))[1]\r\n",
        "test_ids = next(os.walk(TEST_PATH))[1]\r\n",
        "\r\n",
        "# Input parameters\r\n",
        "IMG_WIDTH = 128\r\n",
        "IMG_HEIGHT = 128\r\n",
        "IMG_CHANNELS = 3"
      ],
      "execution_count": 5,
      "outputs": []
    },
    {
      "cell_type": "code",
      "metadata": {
        "colab": {
          "base_uri": "https://localhost:8080/"
        },
        "id": "nWpYcuTQbIpZ",
        "outputId": "002cdf69-5581-4375-8eae-cb8d65be4af4"
      },
      "source": [
        "# Reading the data (and manipulating it a little bit)\r\n",
        "X_train = np.zeros((len(train_ids), IMG_HEIGHT, IMG_WIDTH, IMG_CHANNELS), dtype=np.uint8)\r\n",
        "Y_train = np.zeros((len(train_ids), IMG_HEIGHT, IMG_WIDTH, 1), dtype=np.bool)\r\n",
        "\r\n",
        "print('Resizing training images and masks')\r\n",
        "for n, id_ in tqdm(enumerate(train_ids), total=len(train_ids)):   \r\n",
        "    path = TRAIN_PATH + id_\r\n",
        "    img = imread(path + '/images/' + id_ + '.png')[:,:,:IMG_CHANNELS]  \r\n",
        "    img = resize(img, (IMG_HEIGHT, IMG_WIDTH), mode='constant', preserve_range=True)\r\n",
        "    X_train[n] = img  #Fill empty X_train with values from img\r\n",
        "    mask = np.zeros((IMG_HEIGHT, IMG_WIDTH, 1), dtype=np.bool)\r\n",
        "    for mask_file in next(os.walk(path + '/masks/'))[2]:\r\n",
        "        mask_ = imread(path + '/masks/' + mask_file)\r\n",
        "        mask_ = np.expand_dims(resize(mask_, (IMG_HEIGHT, IMG_WIDTH), mode='constant',  \r\n",
        "                                      preserve_range=True), axis=-1)\r\n",
        "        mask = np.maximum(mask, mask_)  \r\n",
        "            \r\n",
        "    Y_train[n] = mask  "
      ],
      "execution_count": 7,
      "outputs": [
        {
          "output_type": "stream",
          "text": [
            "\r  0%|          | 0/670 [00:00<?, ?it/s]"
          ],
          "name": "stderr"
        },
        {
          "output_type": "stream",
          "text": [
            "Resizing training images and masks\n"
          ],
          "name": "stdout"
        },
        {
          "output_type": "stream",
          "text": [
            "100%|██████████| 670/670 [05:48<00:00,  1.92it/s]\n"
          ],
          "name": "stderr"
        }
      ]
    },
    {
      "cell_type": "code",
      "metadata": {
        "colab": {
          "base_uri": "https://localhost:8080/"
        },
        "id": "nC78CSscenCH",
        "outputId": "b07a91a7-30a4-42be-8c47-e7b8362b92d9"
      },
      "source": [
        "# Now we will do a similar thing for test images\r\n",
        "X_test = np.zeros((len(test_ids), IMG_HEIGHT, IMG_WIDTH, IMG_CHANNELS), dtype=np.uint8)\r\n",
        "\r\n",
        "sizes_test = []\r\n",
        "\r\n",
        "print('Resizing test images') \r\n",
        "\r\n",
        "for n, id_ in tqdm(enumerate(test_ids), total=len(test_ids)):\r\n",
        "    path = TEST_PATH + id_\r\n",
        "    img = imread(path + '/images/' + id_ + '.png')[:,:,:IMG_CHANNELS]\r\n",
        "    sizes_test.append([img.shape[0], img.shape[1]])\r\n",
        "    img = resize(img, (IMG_HEIGHT, IMG_WIDTH), mode='constant', preserve_range=True)\r\n",
        "    X_test[n] = img\r\n",
        "\r\n",
        "print('Processing completed.')"
      ],
      "execution_count": 8,
      "outputs": [
        {
          "output_type": "stream",
          "text": [
            "  6%|▌         | 4/65 [00:00<00:01, 36.23it/s]"
          ],
          "name": "stderr"
        },
        {
          "output_type": "stream",
          "text": [
            "Resizing test images\n"
          ],
          "name": "stdout"
        },
        {
          "output_type": "stream",
          "text": [
            "100%|██████████| 65/65 [00:01<00:00, 37.05it/s]"
          ],
          "name": "stderr"
        },
        {
          "output_type": "stream",
          "text": [
            "Processing completed.\n"
          ],
          "name": "stdout"
        },
        {
          "output_type": "stream",
          "text": [
            "\n"
          ],
          "name": "stderr"
        }
      ]
    },
    {
      "cell_type": "code",
      "metadata": {
        "colab": {
          "base_uri": "https://localhost:8080/",
          "height": 577
        },
        "id": "kzi7aiSYe9IO",
        "outputId": "a44a1e1f-7936-44d6-bb20-9f9fb408a988"
      },
      "source": [
        "# Doing an exploratory run\r\n",
        "\r\n",
        "image_x = random.randint(0, len(train_ids))\r\n",
        "imshow(X_train[image_x])\r\n",
        "plt.show()\r\n",
        "\r\n",
        "imshow(np.squeeze(Y_train[image_x]))\r\n",
        "plt.show()"
      ],
      "execution_count": 9,
      "outputs": [
        {
          "output_type": "display_data",
          "data": {
            "image/png": "[encoded data removed]",
            "text/plain": [
              "<Figure size 432x288 with 1 Axes>"
            ]
          },
          "metadata": {
            "tags": [],
            "needs_background": "light"
          }
        },
        {
          "output_type": "display_data",
          "data": {
            "image/png": "[encoded data removed]",
            "text/plain": [
              "<Figure size 432x288 with 1 Axes>"
            ]
          },
          "metadata": {
            "tags": [],
            "needs_background": "light"
          }
        }
      ]
    },
    {
      "cell_type": "code",
      "metadata": {
        "colab": {
          "base_uri": "https://localhost:8080/"
        },
        "id": "NihDNGwmOPRp",
        "outputId": "8a95587a-626c-4c5a-f9cd-e113ff4e5722"
      },
      "source": [
        "# Building the model\r\n",
        "inputs = tf.keras.layers.Input((IMG_HEIGHT, IMG_WIDTH, IMG_CHANNELS))\r\n",
        "\r\n",
        "s = tf.keras.layers.Lambda(lambda x: x / 255)(inputs)\r\n",
        "\r\n",
        "# Contraction path\r\n",
        "c1 = tf.keras.layers.Conv2D(16, (3,3), activation='relu', kernel_initializer='he_normal', padding='same')(s) # kernel initializer for starting with SOME weights.\r\n",
        "c1 = tf.keras.layers.Dropout(0.1)(c1)\r\n",
        "c1 = tf.keras.layers.Conv2D(16, (3,3), activation='relu', kernel_initializer='he_normal', padding='same')(c1)\r\n",
        "p1 = tf.keras.layers.MaxPooling2D((2,2))(c1)\r\n",
        "\r\n",
        "c2 = tf.keras.layers.Conv2D(32, (3,3), activation='relu', kernel_initializer='he_normal', padding='same')(p1)\r\n",
        "c2 = tf.keras.layers.Dropout(0.1)(c2)\r\n",
        "c2 = tf.keras.layers.Conv2D(32, (3,3), activation='relu', kernel_initializer='he_normal', padding='same')(c2)\r\n",
        "p2 = tf.keras.layers.MaxPooling2D((2,2))(c2)\r\n",
        "\r\n",
        "c3 = tf.keras.layers.Conv2D(64, (3,3), activation='relu', kernel_initializer='he_normal', padding='same')(p2)\r\n",
        "c3 = tf.keras.layers.Dropout(0.2)(c3)\r\n",
        "c3 = tf.keras.layers.Conv2D(64, (3,3), activation='relu', kernel_initializer='he_normal', padding='same')(c3)\r\n",
        "p3 = tf.keras.layers.MaxPooling2D((2,2))(c3)\r\n",
        "\r\n",
        "c4 = tf.keras.layers.Conv2D(128, (3,3), activation='relu', kernel_initializer='he_normal', padding='same')(p3)\r\n",
        "c4 = tf.keras.layers.Dropout(0.2)(c4)\r\n",
        "c4 = tf.keras.layers.Conv2D(128, (3,3), activation='relu', kernel_initializer='he_normal', padding='same')(c4)\r\n",
        "p4 = tf.keras.layers.MaxPooling2D((2,2))(c4)\r\n",
        "\r\n",
        "c5 = tf.keras.layers.Conv2D(256, (3,3), activation='relu', kernel_initializer='he_normal', padding='same')(p4)\r\n",
        "c5 = tf.keras.layers.Dropout(0.3)(c5)\r\n",
        "c5 = tf.keras.layers.Conv2D(256, (3,3), activation='relu', kernel_initializer='he_normal', padding='same')(c5)\r\n",
        "p5 = tf.keras.layers.MaxPooling2D((2,2))(c5)\r\n",
        "\r\n",
        "# Expansive path\r\n",
        "u6 = tf.keras.layers.Conv2DTranspose(128, (2,2), strides = (2,2), padding = 'same')(c5)\r\n",
        "u6 = tf.keras.layers.concatenate([u6, c4])\r\n",
        "c6 = tf.keras.layers.Conv2D(128, (3,3), activation='relu', kernel_initializer='he_normal', padding='same')(u6)\r\n",
        "c6 = tf.keras.layers.Dropout(0.2)(c6)\r\n",
        "c6 = tf.keras.layers.Conv2D(128, (3,3), activation='relu', kernel_initializer='he_normal', padding='same')(c6)\r\n",
        "\r\n",
        "u7 = tf.keras.layers.Conv2DTranspose(64, (2,2), strides = (2,2), padding = 'same')(c6)\r\n",
        "u7 = tf.keras.layers.concatenate([u7, c3])\r\n",
        "c7 = tf.keras.layers.Conv2D(64, (3,3), activation='relu', kernel_initializer='he_normal', padding='same')(u7)\r\n",
        "c7 = tf.keras.layers.Dropout(0.2)(c7)\r\n",
        "c7 = tf.keras.layers.Conv2D(64, (3,3), activation='relu', kernel_initializer='he_normal', padding='same')(c7)\r\n",
        "\r\n",
        "u8 = tf.keras.layers.Conv2DTranspose(16, (2,2), strides = (2,2), padding = 'same')(c7)\r\n",
        "u8 = tf.keras.layers.concatenate([u8, c2])\r\n",
        "c8 = tf.keras.layers.Conv2D(16, (3,3), activation='relu', kernel_initializer='he_normal', padding='same')(u8)\r\n",
        "c8 = tf.keras.layers.Dropout(0.2)(c8)\r\n",
        "c8 = tf.keras.layers.Conv2D(16, (3,3), activation='relu', kernel_initializer='he_normal', padding='same')(c8)\r\n",
        "\r\n",
        "u9 = tf.keras.layers.Conv2DTranspose(32, (2,2), strides = (2,2), padding = 'same')(c8)\r\n",
        "u9 = tf.keras.layers.concatenate([u9, c1], axis=3)\r\n",
        "c9 = tf.keras.layers.Conv2D(16, (3,3), activation='relu', kernel_initializer='he_normal', padding='same')(u9)\r\n",
        "c9 = tf.keras.layers.Dropout(0.2)(c9)\r\n",
        "c9 = tf.keras.layers.Conv2D(16, (3,3), activation='relu', kernel_initializer='he_normal', padding='same')(c9)\r\n",
        "\r\n",
        "outputs = tf.keras.layers.Conv2D(1, (1,1), activation='sigmoid')(c9)\r\n",
        "\r\n",
        "model = tf.keras.Model(inputs=[inputs], outputs=[outputs])\r\n",
        "model.compile(optimizer='adam', loss='binary_crossentropy', metrics=['accuracy'])\r\n",
        "model.summary()\r\n",
        "\r\n",
        "################################################################################\r\n",
        "\r\n",
        "checkpoint = tf.keras.callbacks.ModelCheckpoint('model_for_nuclei.h5', verbose=1, save_best_onyl=True)\r\n",
        "\r\n",
        "callbacks = [\r\n",
        "             tf.keras.callbacks.EarlyStopping(patience=2, monitor='val_loss'),\r\n",
        "             tf.keras.callbacks.TensorBoard(log_dir='logs'),\r\n",
        "             checkpoint\r\n",
        "]\r\n",
        "\r\n",
        "results = model.fit(X_train, Y_train, validation_split=0.1, batch_size=16, epochs=25, callbacks=callbacks) # 100 epochs maybe?"
      ],
      "execution_count": 12,
      "outputs": [
        {
          "output_type": "stream",
          "text": [
            "Model: \"model_1\"\n",
            "__________________________________________________________________________________________________\n",
            "Layer (type)                    Output Shape         Param #     Connected to                     \n",
            "==================================================================================================\n",
            "input_2 (InputLayer)            [(None, 128, 128, 3) 0                                            \n",
            "__________________________________________________________________________________________________\n",
            "lambda_1 (Lambda)               (None, 128, 128, 3)  0           input_2[0][0]                    \n",
            "__________________________________________________________________________________________________\n",
            "conv2d_19 (Conv2D)              (None, 128, 128, 16) 448         lambda_1[0][0]                   \n",
            "__________________________________________________________________________________________________\n",
            "dropout_9 (Dropout)             (None, 128, 128, 16) 0           conv2d_19[0][0]                  \n",
            "__________________________________________________________________________________________________\n",
            "conv2d_20 (Conv2D)              (None, 128, 128, 16) 2320        dropout_9[0][0]                  \n",
            "__________________________________________________________________________________________________\n",
            "max_pooling2d_5 (MaxPooling2D)  (None, 64, 64, 16)   0           conv2d_20[0][0]                  \n",
            "__________________________________________________________________________________________________\n",
            "conv2d_21 (Conv2D)              (None, 64, 64, 32)   4640        max_pooling2d_5[0][0]            \n",
            "__________________________________________________________________________________________________\n",
            "dropout_10 (Dropout)            (None, 64, 64, 32)   0           conv2d_21[0][0]                  \n",
            "__________________________________________________________________________________________________\n",
            "conv2d_22 (Conv2D)              (None, 64, 64, 32)   9248        dropout_10[0][0]                 \n",
            "__________________________________________________________________________________________________\n",
            "max_pooling2d_6 (MaxPooling2D)  (None, 32, 32, 32)   0           conv2d_22[0][0]                  \n",
            "__________________________________________________________________________________________________\n",
            "conv2d_23 (Conv2D)              (None, 32, 32, 64)   18496       max_pooling2d_6[0][0]            \n",
            "__________________________________________________________________________________________________\n",
            "dropout_11 (Dropout)            (None, 32, 32, 64)   0           conv2d_23[0][0]                  \n",
            "__________________________________________________________________________________________________\n",
            "conv2d_24 (Conv2D)              (None, 32, 32, 64)   36928       dropout_11[0][0]                 \n",
            "__________________________________________________________________________________________________\n",
            "max_pooling2d_7 (MaxPooling2D)  (None, 16, 16, 64)   0           conv2d_24[0][0]                  \n",
            "__________________________________________________________________________________________________\n",
            "conv2d_25 (Conv2D)              (None, 16, 16, 128)  73856       max_pooling2d_7[0][0]            \n",
            "__________________________________________________________________________________________________\n",
            "dropout_12 (Dropout)            (None, 16, 16, 128)  0           conv2d_25[0][0]                  \n",
            "__________________________________________________________________________________________________\n",
            "conv2d_26 (Conv2D)              (None, 16, 16, 128)  147584      dropout_12[0][0]                 \n",
            "__________________________________________________________________________________________________\n",
            "max_pooling2d_8 (MaxPooling2D)  (None, 8, 8, 128)    0           conv2d_26[0][0]                  \n",
            "__________________________________________________________________________________________________\n",
            "conv2d_27 (Conv2D)              (None, 8, 8, 256)    295168      max_pooling2d_8[0][0]            \n",
            "__________________________________________________________________________________________________\n",
            "dropout_13 (Dropout)            (None, 8, 8, 256)    0           conv2d_27[0][0]                  \n",
            "__________________________________________________________________________________________________\n",
            "conv2d_28 (Conv2D)              (None, 8, 8, 256)    590080      dropout_13[0][0]                 \n",
            "__________________________________________________________________________________________________\n",
            "conv2d_transpose_4 (Conv2DTrans (None, 16, 16, 128)  131200      conv2d_28[0][0]                  \n",
            "__________________________________________________________________________________________________\n",
            "concatenate_4 (Concatenate)     (None, 16, 16, 256)  0           conv2d_transpose_4[0][0]         \n",
            "                                                                 conv2d_26[0][0]                  \n",
            "__________________________________________________________________________________________________\n",
            "conv2d_29 (Conv2D)              (None, 16, 16, 128)  295040      concatenate_4[0][0]              \n",
            "__________________________________________________________________________________________________\n",
            "dropout_14 (Dropout)            (None, 16, 16, 128)  0           conv2d_29[0][0]                  \n",
            "__________________________________________________________________________________________________\n",
            "conv2d_30 (Conv2D)              (None, 16, 16, 128)  147584      dropout_14[0][0]                 \n",
            "__________________________________________________________________________________________________\n",
            "conv2d_transpose_5 (Conv2DTrans (None, 32, 32, 64)   32832       conv2d_30[0][0]                  \n",
            "__________________________________________________________________________________________________\n",
            "concatenate_5 (Concatenate)     (None, 32, 32, 128)  0           conv2d_transpose_5[0][0]         \n",
            "                                                                 conv2d_24[0][0]                  \n",
            "__________________________________________________________________________________________________\n",
            "conv2d_31 (Conv2D)              (None, 32, 32, 64)   73792       concatenate_5[0][0]              \n",
            "__________________________________________________________________________________________________\n",
            "dropout_15 (Dropout)            (None, 32, 32, 64)   0           conv2d_31[0][0]                  \n",
            "__________________________________________________________________________________________________\n",
            "conv2d_32 (Conv2D)              (None, 32, 32, 64)   36928       dropout_15[0][0]                 \n",
            "__________________________________________________________________________________________________\n",
            "conv2d_transpose_6 (Conv2DTrans (None, 64, 64, 16)   4112        conv2d_32[0][0]                  \n",
            "__________________________________________________________________________________________________\n",
            "concatenate_6 (Concatenate)     (None, 64, 64, 48)   0           conv2d_transpose_6[0][0]         \n",
            "                                                                 conv2d_22[0][0]                  \n",
            "__________________________________________________________________________________________________\n",
            "conv2d_33 (Conv2D)              (None, 64, 64, 16)   6928        concatenate_6[0][0]              \n",
            "__________________________________________________________________________________________________\n",
            "dropout_16 (Dropout)            (None, 64, 64, 16)   0           conv2d_33[0][0]                  \n",
            "__________________________________________________________________________________________________\n",
            "conv2d_34 (Conv2D)              (None, 64, 64, 16)   2320        dropout_16[0][0]                 \n",
            "__________________________________________________________________________________________________\n",
            "conv2d_transpose_7 (Conv2DTrans (None, 128, 128, 32) 2080        conv2d_34[0][0]                  \n",
            "__________________________________________________________________________________________________\n",
            "concatenate_7 (Concatenate)     (None, 128, 128, 48) 0           conv2d_transpose_7[0][0]         \n",
            "                                                                 conv2d_20[0][0]                  \n",
            "__________________________________________________________________________________________________\n",
            "conv2d_35 (Conv2D)              (None, 128, 128, 16) 6928        concatenate_7[0][0]              \n",
            "__________________________________________________________________________________________________\n",
            "dropout_17 (Dropout)            (None, 128, 128, 16) 0           conv2d_35[0][0]                  \n",
            "__________________________________________________________________________________________________\n",
            "conv2d_36 (Conv2D)              (None, 128, 128, 16) 2320        dropout_17[0][0]                 \n",
            "__________________________________________________________________________________________________\n",
            "conv2d_37 (Conv2D)              (None, 128, 128, 1)  17          conv2d_36[0][0]                  \n",
            "==================================================================================================\n",
            "Total params: 1,920,849\n",
            "Trainable params: 1,920,849\n",
            "Non-trainable params: 0\n",
            "__________________________________________________________________________________________________\n",
            "Epoch 1/25\n",
            "38/38 [==============================] - 11s 69ms/step - loss: 0.6633 - accuracy: 0.6863 - val_loss: 0.4286 - val_accuracy: 0.8028\n",
            "\n",
            "Epoch 00001: saving model to model_for_nuclei.h5\n",
            "Epoch 2/25\n",
            "38/38 [==============================] - 1s 40ms/step - loss: 0.4023 - accuracy: 0.8026 - val_loss: 0.3156 - val_accuracy: 0.8329\n",
            "\n",
            "Epoch 00002: saving model to model_for_nuclei.h5\n",
            "Epoch 3/25\n",
            "38/38 [==============================] - 1s 40ms/step - loss: 0.2516 - accuracy: 0.8710 - val_loss: 0.1584 - val_accuracy: 0.9359\n",
            "\n",
            "Epoch 00003: saving model to model_for_nuclei.h5\n",
            "Epoch 4/25\n",
            "38/38 [==============================] - 1s 39ms/step - loss: 0.1628 - accuracy: 0.9369 - val_loss: 0.1289 - val_accuracy: 0.9506\n",
            "\n",
            "Epoch 00004: saving model to model_for_nuclei.h5\n",
            "Epoch 5/25\n",
            "38/38 [==============================] - 2s 40ms/step - loss: 0.1331 - accuracy: 0.9477 - val_loss: 0.1055 - val_accuracy: 0.9580\n",
            "\n",
            "Epoch 00005: saving model to model_for_nuclei.h5\n",
            "Epoch 6/25\n",
            "38/38 [==============================] - 2s 40ms/step - loss: 0.1178 - accuracy: 0.9554 - val_loss: 0.1046 - val_accuracy: 0.9576\n",
            "\n",
            "Epoch 00006: saving model to model_for_nuclei.h5\n",
            "Epoch 7/25\n",
            "38/38 [==============================] - 2s 40ms/step - loss: 0.1163 - accuracy: 0.9555 - val_loss: 0.0986 - val_accuracy: 0.9614\n",
            "\n",
            "Epoch 00007: saving model to model_for_nuclei.h5\n",
            "Epoch 8/25\n",
            "38/38 [==============================] - 2s 40ms/step - loss: 0.1090 - accuracy: 0.9587 - val_loss: 0.0895 - val_accuracy: 0.9652\n",
            "\n",
            "Epoch 00008: saving model to model_for_nuclei.h5\n",
            "Epoch 9/25\n",
            "38/38 [==============================] - 2s 41ms/step - loss: 0.1179 - accuracy: 0.9556 - val_loss: 0.0954 - val_accuracy: 0.9627\n",
            "\n",
            "Epoch 00009: saving model to model_for_nuclei.h5\n",
            "Epoch 10/25\n",
            "38/38 [==============================] - 2s 40ms/step - loss: 0.1034 - accuracy: 0.9608 - val_loss: 0.0853 - val_accuracy: 0.9668\n",
            "\n",
            "Epoch 00010: saving model to model_for_nuclei.h5\n",
            "Epoch 11/25\n",
            "38/38 [==============================] - 2s 40ms/step - loss: 0.0989 - accuracy: 0.9626 - val_loss: 0.0891 - val_accuracy: 0.9635\n",
            "\n",
            "Epoch 00011: saving model to model_for_nuclei.h5\n",
            "Epoch 12/25\n",
            "38/38 [==============================] - 2s 40ms/step - loss: 0.0974 - accuracy: 0.9626 - val_loss: 0.0867 - val_accuracy: 0.9664\n",
            "\n",
            "Epoch 00012: saving model to model_for_nuclei.h5\n"
          ],
          "name": "stdout"
        }
      ]
    },
    {
      "cell_type": "code",
      "metadata": {
        "id": "6CdvCZOCf1tU",
        "colab": {
          "base_uri": "https://localhost:8080/",
          "height": 1000
        },
        "outputId": "928657fc-13b3-41a9-86e5-08f8ee41f57d"
      },
      "source": [
        "# Now we test our model\r\n",
        "idx = random.randint(0, len(X_train))\r\n",
        "\r\n",
        "preds_train = model.predict(X_train[:int(X_train.shape[0]*0.9)], verbose=1)\r\n",
        "preds_val = model.predict(X_train[int(X_train.shape[0]*0.9):], verbose=1)\r\n",
        "preds_test = model.predict(X_test, verbose=1)\r\n",
        " \r\n",
        "preds_train_t = (preds_train > 0.5).astype(np.uint8)\r\n",
        "preds_val_t = (preds_val > 0.5).astype(np.uint8)\r\n",
        "preds_test_t = (preds_test > 0.5).astype(np.uint8)\r\n",
        "\r\n",
        "# Performing a sanity check on some random training samples\r\n",
        "ix = random.randint(0, len(preds_train_t))\r\n",
        "\r\n",
        "imshow(X_train[ix])\r\n",
        "plt.show()\r\n",
        "imshow(np.squeeze(Y_train[ix]))\r\n",
        "plt.show()\r\n",
        "imshow(np.squeeze(preds_train_t[ix]))\r\n",
        "plt.show()\r\n",
        "\r\n",
        "# Performing a sanity check on some random validation samples\r\n",
        "ix = random.randint(0, len(preds_val_t))\r\n",
        "\r\n",
        "imshow(X_train[int(X_train.shape[0]*0.9):][ix])\r\n",
        "plt.show()\r\n",
        "imshow(np.squeeze(Y_train[int(Y_train.shape[0]*0.9):][ix]))\r\n",
        "plt.show()\r\n",
        "imshow(np.squeeze(preds_val_t[ix]))\r\n",
        "plt.show()"
      ],
      "execution_count": 13,
      "outputs": [
        {
          "output_type": "stream",
          "text": [
            "19/19 [==============================] - 1s 33ms/step\n",
            "3/3 [==============================] - 0s 15ms/step\n",
            "3/3 [==============================] - 0s 86ms/step\n"
          ],
          "name": "stdout"
        },
        {
          "output_type": "display_data",
          "data": {
            "image/png": "[encoded data removed]",
            "text/plain": [
              "<Figure size 432x288 with 1 Axes>"
            ]
          },
          "metadata": {
            "tags": [],
            "needs_background": "light"
          }
        },
        {
          "output_type": "display_data",
          "data": {
            "image/png": "[encoded data removed]",
            "text/plain": [
              "<Figure size 432x288 with 1 Axes>"
            ]
          },
          "metadata": {
            "tags": [],
            "needs_background": "light"
          }
        },
        {
          "output_type": "stream",
          "text": [
            "/usr/local/lib/python3.6/dist-packages/skimage/io/_plugins/matplotlib_plugin.py:150: UserWarning: Low image data range; displaying image with stretched contrast.\n",
            "  lo, hi, cmap = _get_display_range(image)\n"
          ],
          "name": "stderr"
        },
        {
          "output_type": "display_data",
          "data": {
            "image/png": "[encoded data removed]",
            "text/plain": [
              "<Figure size 432x288 with 2 Axes>"
            ]
          },
          "metadata": {
            "tags": [],
            "needs_background": "light"
          }
        },
        {
          "output_type": "display_data",
          "data": {
            "image/png": "[encoded data removed]",
            "text/plain": [
              "<Figure size 432x288 with 2 Axes>"
            ]
          },
          "metadata": {
            "tags": [],
            "needs_background": "light"
          }
        },
        {
          "output_type": "display_data",
          "data": {
            "image/png": "[encoded data removed]",
            "text/plain": [
              "<Figure size 432x288 with 1 Axes>"
            ]
          },
          "metadata": {
            "tags": [],
            "needs_background": "light"
          }
        },
        {
          "output_type": "display_data",
          "data": {
            "image/png": "[encoded data removed]",
            "text/plain": [
              "<Figure size 432x288 with 2 Axes>"
            ]
          },
          "metadata": {
            "tags": [],
            "needs_background": "light"
          }
        }
      ]
    },
    {
      "cell_type": "code",
      "metadata": {
        "id": "rDuXovCyPt_t"
      },
      "source": [
        ""
      ],
      "execution_count": 13,
      "outputs": []
    }
  ]
}